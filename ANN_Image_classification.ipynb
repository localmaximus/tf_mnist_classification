{
  "nbformat": 4,
  "nbformat_minor": 0,
  "metadata": {
    "colab": {
      "name": "ANN Image classification.ipynb",
      "provenance": [],
      "collapsed_sections": []
    },
    "kernelspec": {
      "name": "python3",
      "display_name": "Python 3"
    }
  },
  "cells": [
    {
      "cell_type": "code",
      "metadata": {
        "id": "wSjFfo-oGnhZ",
        "colab": {
          "base_uri": "https://localhost:8080/"
        },
        "outputId": "c24fc34c-6079-4623-d32d-160c792fa139"
      },
      "source": [
        "import tensorflow as tf\n",
        "print(tf.__version__)\n",
        "import matplotlib.pyplot as plt\n"
      ],
      "execution_count": null,
      "outputs": [
        {
          "output_type": "stream",
          "text": [
            "2.4.1\n"
          ],
          "name": "stdout"
        }
      ]
    },
    {
      "cell_type": "code",
      "metadata": {
        "id": "pmIjHwq6GwVY"
      },
      "source": [
        "mnist = tf.keras.datasets.mnist"
      ],
      "execution_count": null,
      "outputs": []
    },
    {
      "cell_type": "code",
      "metadata": {
        "id": "RYKEFNWsG-ta",
        "colab": {
          "base_uri": "https://localhost:8080/",
          "height": 52
        },
        "outputId": "f5b06e2a-6b9b-40e7-8079-db47ffc8bb2d"
      },
      "source": [
        "(X_train, Y_train), (x_test, y_test) = mnist.load_data()\n",
        "X_train = X_train / 255.0\n",
        "x_test = x_test / 255.0"
      ],
      "execution_count": null,
      "outputs": [
        {
          "output_type": "stream",
          "text": [
            "Downloading data from https://storage.googleapis.com/tensorflow/tf-keras-datasets/mnist.npz\n",
            "11493376/11490434 [==============================] - 0s 0us/step\n"
          ],
          "name": "stdout"
        }
      ]
    },
    {
      "cell_type": "code",
      "metadata": {
        "id": "ln_V8bD3HFmC",
        "colab": {
          "base_uri": "https://localhost:8080/",
          "height": 52
        },
        "outputId": "deeef434-5423-4a7a-cf15-6cb971f3d6cf"
      },
      "source": [
        "print(X_train[0].shape)\n",
        "print(y_test.shape)"
      ],
      "execution_count": null,
      "outputs": [
        {
          "output_type": "stream",
          "text": [
            "(28, 28)\n",
            "(10000,)\n"
          ],
          "name": "stdout"
        }
      ]
    },
    {
      "cell_type": "code",
      "metadata": {
        "id": "emwUqgm1HSbE"
      },
      "source": [
        "model = tf.keras.models.Sequential([\n",
        "  tf.keras.layers.Flatten(input_shape = (28,28)),\n",
        "  tf.keras.layers.Dense(60,activation='relu'),\n",
        "  tf.keras.layers.Dropout(0.3),\n",
        "  tf.keras.layers.Dense(10, activation='softmax')\n",
        "])\n",
        "\n"
      ],
      "execution_count": null,
      "outputs": []
    },
    {
      "cell_type": "code",
      "metadata": {
        "id": "yY0SfDviIeJV"
      },
      "source": [
        "model.compile(optimizer='adam',\n",
        "              loss = 'sparse_categorical_crossentropy',\n",
        "              metrics = ['accuracy'])"
      ],
      "execution_count": null,
      "outputs": []
    },
    {
      "cell_type": "code",
      "metadata": {
        "id": "1FFAAdQuI1Br",
        "colab": {
          "base_uri": "https://localhost:8080/",
          "height": 364
        },
        "outputId": "44cea959-402b-4eff-8da7-7f9979dec092"
      },
      "source": [
        "result = model.fit(X_train, Y_train, validation_data=(x_test, y_test), epochs=10)"
      ],
      "execution_count": null,
      "outputs": [
        {
          "output_type": "stream",
          "text": [
            "Epoch 1/10\n",
            "1875/1875 [==============================] - 3s 2ms/step - loss: 0.4081 - accuracy: 0.8802 - val_loss: 0.1895 - val_accuracy: 0.9455\n",
            "Epoch 2/10\n",
            "1875/1875 [==============================] - 3s 2ms/step - loss: 0.2286 - accuracy: 0.9330 - val_loss: 0.1385 - val_accuracy: 0.9594\n",
            "Epoch 3/10\n",
            "1875/1875 [==============================] - 3s 2ms/step - loss: 0.1892 - accuracy: 0.9434 - val_loss: 0.1269 - val_accuracy: 0.9622\n",
            "Epoch 4/10\n",
            "1875/1875 [==============================] - 5s 3ms/step - loss: 0.1676 - accuracy: 0.9490 - val_loss: 0.1099 - val_accuracy: 0.9682\n",
            "Epoch 5/10\n",
            "1875/1875 [==============================] - 5s 3ms/step - loss: 0.1525 - accuracy: 0.9543 - val_loss: 0.1057 - val_accuracy: 0.9689\n",
            "Epoch 6/10\n",
            "1875/1875 [==============================] - 4s 2ms/step - loss: 0.1429 - accuracy: 0.9563 - val_loss: 0.0989 - val_accuracy: 0.9707\n",
            "Epoch 7/10\n",
            "1875/1875 [==============================] - 3s 2ms/step - loss: 0.1350 - accuracy: 0.9584 - val_loss: 0.0978 - val_accuracy: 0.9718\n",
            "Epoch 8/10\n",
            "1875/1875 [==============================] - 3s 2ms/step - loss: 0.1300 - accuracy: 0.9592 - val_loss: 0.0926 - val_accuracy: 0.9725\n",
            "Epoch 9/10\n",
            "1875/1875 [==============================] - 3s 2ms/step - loss: 0.1248 - accuracy: 0.9610 - val_loss: 0.0951 - val_accuracy: 0.9733\n",
            "Epoch 10/10\n",
            "1875/1875 [==============================] - 3s 2ms/step - loss: 0.1190 - accuracy: 0.9623 - val_loss: 0.0942 - val_accuracy: 0.9733\n"
          ],
          "name": "stdout"
        }
      ]
    },
    {
      "cell_type": "code",
      "metadata": {
        "id": "wHkxG3H8I-i4",
        "colab": {
          "base_uri": "https://localhost:8080/",
          "height": 283
        },
        "outputId": "2bf7ace0-35e6-4daf-c300-ed3d6ca11174"
      },
      "source": [
        "plt.plot(result.history['loss'], label='loss')\n",
        "plt.plot(result.history['val_loss'], label='val_loss')\n",
        "plt.legend()"
      ],
      "execution_count": null,
      "outputs": [
        {
          "output_type": "execute_result",
          "data": {
            "text/plain": [
              "<matplotlib.legend.Legend at 0x7ff54146b940>"
            ]
          },
          "metadata": {
            "tags": []
          },
          "execution_count": 100
        },
        {
          "output_type": "display_data",
          "data": {
            "image/png": "[encoded data removed]",
            "text/plain": [
              "<Figure size 432x288 with 1 Axes>"
            ]
          },
          "metadata": {
            "tags": [],
            "needs_background": "light"
          }
        }
      ]
    },
    {
      "cell_type": "code",
      "metadata": {
        "id": "9Jd1buTpKu9H",
        "colab": {
          "base_uri": "https://localhost:8080/",
          "height": 711
        },
        "outputId": "4f8128d3-9f3c-4861-a4c4-6c96831b4cc0"
      },
      "source": [
        "result.history"
      ],
      "execution_count": null,
      "outputs": [
        {
          "output_type": "execute_result",
          "data": {
            "text/plain": [
              "{'accuracy': [0.7633000016212463,\n",
              "  0.8460833430290222,\n",
              "  0.8797666430473328,\n",
              "  0.8920333385467529,\n",
              "  0.9003833532333374,\n",
              "  0.9047999978065491,\n",
              "  0.9084500074386597,\n",
              "  0.9127833247184753,\n",
              "  0.9154166579246521,\n",
              "  0.9190333485603333],\n",
              " 'loss': [2.366612434387207,\n",
              "  0.5917103290557861,\n",
              "  0.46996042132377625,\n",
              "  0.4148244261741638,\n",
              "  0.38266387581825256,\n",
              "  0.3763978183269501,\n",
              "  0.35442736744880676,\n",
              "  0.3408774435520172,\n",
              "  0.3371524512767792,\n",
              "  0.3256481885910034],\n",
              " 'val_accuracy': [0.8815000057220459,\n",
              "  0.9068999886512756,\n",
              "  0.9301000237464905,\n",
              "  0.9279000163078308,\n",
              "  0.9300000071525574,\n",
              "  0.9373000264167786,\n",
              "  0.9413999915122986,\n",
              "  0.9408000111579895,\n",
              "  0.9442999958992004,\n",
              "  0.942799985408783],\n",
              " 'val_loss': [0.5589143633842468,\n",
              "  0.4086354970932007,\n",
              "  0.3390839993953705,\n",
              "  0.31874197721481323,\n",
              "  0.3064781129360199,\n",
              "  0.3000389039516449,\n",
              "  0.3089168965816498,\n",
              "  0.292631596326828,\n",
              "  0.27241435647010803,\n",
              "  0.3052768409252167]}"
            ]
          },
          "metadata": {
            "tags": []
          },
          "execution_count": 34
        }
      ]
    },
    {
      "cell_type": "code",
      "metadata": {
        "id": "NbkdaO3ZN4z_"
      },
      "source": [
        "predictions = model.predict(x_test)"
      ],
      "execution_count": null,
      "outputs": []
    },
    {
      "cell_type": "code",
      "metadata": {
        "id": "vz6nEgl6PA4D",
        "colab": {
          "base_uri": "https://localhost:8080/",
          "height": 69
        },
        "outputId": "1eee9056-2695-4089-fccc-92ce03808395"
      },
      "source": [
        "import numpy as np\n",
        "predictions[1]"
      ],
      "execution_count": null,
      "outputs": [
        {
          "output_type": "execute_result",
          "data": {
            "text/plain": [
              "array([3.9019219e-09, 3.3772138e-03, 9.9655616e-01, 6.6010958e-05,\n",
              "       6.9937170e-18, 2.9638460e-07, 3.9231303e-09, 1.2953411e-12,\n",
              "       3.3360237e-07, 2.6911612e-17], dtype=float32)"
            ]
          },
          "metadata": {
            "tags": []
          },
          "execution_count": 102
        }
      ]
    },
    {
      "cell_type": "code",
      "metadata": {
        "id": "0TFE1GXePDA5",
        "colab": {
          "base_uri": "https://localhost:8080/",
          "height": 35
        },
        "outputId": "da3feb42-826a-4d51-a0bd-ab0498ee90ed"
      },
      "source": [
        "p = np.argmax(predictions,axis=1)\n",
        "p"
      ],
      "execution_count": null,
      "outputs": [
        {
          "output_type": "execute_result",
          "data": {
            "text/plain": [
              "array([7, 2, 1, ..., 4, 5, 6])"
            ]
          },
          "metadata": {
            "tags": []
          },
          "execution_count": 103
        }
      ]
    },
    {
      "cell_type": "code",
      "metadata": {
        "id": "Q2ITzv0vPF2N",
        "colab": {
          "base_uri": "https://localhost:8080/",
          "height": 52
        },
        "outputId": "94197406-e371-492c-9174-2eaac3ffb7f7"
      },
      "source": [
        "model.evaluate(x_test,y_test)"
      ],
      "execution_count": null,
      "outputs": [
        {
          "output_type": "stream",
          "text": [
            "313/313 [==============================] - 0s 1ms/step - loss: 0.0942 - accuracy: 0.9733\n"
          ],
          "name": "stdout"
        },
        {
          "output_type": "execute_result",
          "data": {
            "text/plain": [
              "[0.09419680386781693, 0.9732999801635742]"
            ]
          },
          "metadata": {
            "tags": []
          },
          "execution_count": 104
        }
      ]
    },
    {
      "cell_type": "code",
      "metadata": {
        "id": "1Earc-t9PPvl",
        "colab": {
          "base_uri": "https://localhost:8080/",
          "height": 225
        },
        "outputId": "f9ead2e7-615f-48d6-af91-bdb5921b527b"
      },
      "source": [
        "tf.math.confusion_matrix(y_test, p)\n"
      ],
      "execution_count": null,
      "outputs": [
        {
          "output_type": "execute_result",
          "data": {
            "text/plain": [
              "<tf.Tensor: shape=(10, 10), dtype=int32, numpy=\n",
              "array([[ 968,    0,    2,    2,    1,    1,    3,    2,    1,    0],\n",
              "       [   0, 1124,    2,    2,    0,    0,    1,    1,    5,    0],\n",
              "       [   5,    1,  996,    6,    4,    0,    3,   10,    7,    0],\n",
              "       [   0,    0,    6,  992,    1,    2,    0,    5,    3,    1],\n",
              "       [   1,    0,    3,    0,  957,    0,    6,    1,    1,   13],\n",
              "       [   2,    4,    0,   16,    1,  849,    6,    2,    6,    6],\n",
              "       [   6,    3,    2,    1,    5,    3,  932,    0,    6,    0],\n",
              "       [   2,    5,    7,    3,    0,    0,    0, 1006,    1,    4],\n",
              "       [   4,    1,    1,    9,    5,    4,    1,    6,  939,    4],\n",
              "       [   2,    6,    0,    9,   11,    1,    0,    8,    2,  970]],\n",
              "      dtype=int32)>"
            ]
          },
          "metadata": {
            "tags": []
          },
          "execution_count": 105
        }
      ]
    },
    {
      "cell_type": "code",
      "metadata": {
        "id": "vPdASQzZQ4zh",
        "colab": {
          "base_uri": "https://localhost:8080/",
          "height": 364
        },
        "outputId": "1bb71873-e309-41d7-a0f7-f5d4117b05bc"
      },
      "source": [
        "misclassified_id = np.where(y_test != p)[0]\n",
        "print(misclassified_id)"
      ],
      "execution_count": null,
      "outputs": [
        {
          "output_type": "stream",
          "text": [
            "[  73  151  241  247  259  321  340  381  445  582  591  610  659  691\n",
            "  707  717  720  740  760  844  882  924  947  951  965 1014 1032 1044\n",
            " 1112 1124 1181 1182 1226 1232 1242 1247 1252 1289 1299 1319 1326 1328\n",
            " 1337 1393 1425 1500 1522 1530 1549 1553 1554 1609 1678 1681 1709 1717\n",
            " 1737 1751 1754 1790 1800 1850 1878 1901 1952 2004 2024 2035 2043 2044\n",
            " 2053 2098 2109 2118 2125 2130 2135 2162 2179 2182 2186 2189 2224 2272\n",
            " 2291 2293 2299 2325 2329 2369 2387 2406 2422 2425 2433 2454 2462 2488\n",
            " 2607 2610 2648 2654 2720 2810 2896 2927 2939 2953 2970 2995 3005 3030\n",
            " 3060 3073 3117 3157 3330 3336 3405 3422 3503 3520 3549 3558 3597 3604\n",
            " 3681 3718 3749 3751 3762 3776 3780 3808 3811 3838 3853 3869 3893 3902\n",
            " 3906 3926 3941 3943 3976 4000 4012 4017 4065 4075 4078 4152 4163 4176\n",
            " 4199 4201 4205 4212 4224 4248 4255 4289 4306 4355 4356 4374 4497 4500\n",
            " 4521 4536 4547 4575 4601 4615 4731 4751 4807 4814 4823 4876 4880 4888\n",
            " 4890 4956 4966 4990 5140 5331 5457 5642 5734 5735 5749 5842 5887 5888\n",
            " 5913 5922 5926 5936 5937 5955 5972 5973 6024 6059 6071 6166 6400 6555\n",
            " 6571 6574 6576 6597 6598 6625 6651 6744 6755 6847 7216 7505 7511 7545\n",
            " 7800 7821 7847 7849 7856 7886 8020 8094 8183 8325 8382 8520 8522 8863\n",
            " 9009 9015 9019 9024 9280 9422 9530 9587 9634 9642 9664 9679 9700 9716\n",
            " 9729 9740 9744 9749 9755 9768 9770 9808 9811 9829 9839 9858 9867 9944\n",
            " 9982]\n"
          ],
          "name": "stdout"
        }
      ]
    },
    {
      "cell_type": "code",
      "metadata": {
        "id": "n2DVT7U7fkbg",
        "colab": {
          "base_uri": "https://localhost:8080/",
          "height": 283
        },
        "outputId": "58f5fe73-f008-4a47-dc2c-d8eb78fc16d1"
      },
      "source": [
        "i = np.random.choice(misclassified_id)\n",
        "plt.imshow(x_test[i], cmap='gray')\n",
        "print(\"predicted: \", p[i], \"real: \", y_test[i])"
      ],
      "execution_count": null,
      "outputs": [
        {
          "output_type": "stream",
          "text": [
            "predicted:  3 real:  8\n"
          ],
          "name": "stdout"
        },
        {
          "output_type": "display_data",
          "data": {
            "image/png": "[encoded data removed]",
            "text/plain": [
              "<Figure size 432x288 with 1 Axes>"
            ]
          },
          "metadata": {
            "tags": [],
            "needs_background": "light"
          }
        }
      ]
    },
    {
      "cell_type": "code",
      "metadata": {
        "id": "e17In535flVw",
        "colab": {
          "base_uri": "https://localhost:8080/",
          "height": 35
        },
        "outputId": "bc823798-b536-4435-9cbf-3789413ddcaf"
      },
      "source": [
        "len(misclassified_id)"
      ],
      "execution_count": null,
      "outputs": [
        {
          "output_type": "execute_result",
          "data": {
            "text/plain": [
              "267"
            ]
          },
          "metadata": {
            "tags": []
          },
          "execution_count": 111
        }
      ]
    },
    {
      "cell_type": "code",
      "metadata": {
        "id": "MrOSXm2JjRQv"
      },
      "source": [
        ""
      ],
      "execution_count": null,
      "outputs": []
    }
  ]
}